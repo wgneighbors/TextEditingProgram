{
 "cells": [
  {
   "cell_type": "markdown",
   "id": "2579f554",
   "metadata": {},
   "source": [
    "# Here is a demonstration of my light-weight and \n",
    "# simple text editing and analysis program."
   ]
  },
  {
   "cell_type": "code",
   "execution_count": 1,
   "id": "7b20afb9",
   "metadata": {},
   "outputs": [],
   "source": [
    "from text import import_file, TextStats, TextEdit, TextCompare"
   ]
  },
  {
   "cell_type": "markdown",
   "id": "4147d6ab",
   "metadata": {},
   "source": [
    "### First we can show the stats of the text."
   ]
  },
  {
   "cell_type": "code",
   "execution_count": 2,
   "id": "d771ea85",
   "metadata": {},
   "outputs": [
    {
     "name": "stdout",
     "output_type": "stream",
     "text": [
      "Word count: 222557\n",
      "Character count: 1237517\n",
      "Sentence count: 10936\n",
      "Average word length: 4.36711494134087\n"
     ]
    }
   ],
   "source": [
    "# import file\n",
    "file_path = 'MobyDick.txt'\n",
    "text = import_file(file_path)\n",
    "text_stats = TextStats(text)\n",
    "\n",
    "# get word count\n",
    "word_count = text_stats.word_count()\n",
    "print(\"Word count:\", word_count)\n",
    "\n",
    "# get character count\n",
    "character_count = text_stats.character_count()\n",
    "print(\"Character count:\", character_count)\n",
    "\n",
    "# get sentence count\n",
    "sentence_count = text_stats.sentence_count()\n",
    "print(\"Sentence count:\", sentence_count)\n",
    "\n",
    "# get average word length\n",
    "average_word_length = text_stats.average_word_length()\n",
    "print(\"Average word length:\", average_word_length)"
   ]
  },
  {
   "cell_type": "markdown",
   "id": "82167792",
   "metadata": {},
   "source": [
    "### Now we can show the TextEdit class."
   ]
  },
  {
   "cell_type": "code",
   "execution_count": 3,
   "id": "809f726c",
   "metadata": {},
   "outputs": [
    {
     "name": "stdout",
     "output_type": "stream",
     "text": [
      "This is some example text. It has punctuation!\n"
     ]
    }
   ],
   "source": [
    "# create text and an instance of TextEdit\n",
    "text = \"This is some sample text. It has punctuation!\"\n",
    "editor = TextEdit(text)\n",
    "\n",
    "# edit text\n",
    "editor.text_edit(old=\"sample\", new=\"example\", case_sensitive=True)\n",
    "print(editor.text)"
   ]
  },
  {
   "cell_type": "code",
   "execution_count": 4,
   "id": "02d4cbad",
   "metadata": {},
   "outputs": [
    {
     "name": "stdout",
     "output_type": "stream",
     "text": [
      "This is some example text It has punctuation\n"
     ]
    }
   ],
   "source": [
    "# remove punctuation\n",
    "editor.remove_punctuation()\n",
    "print(editor.text)"
   ]
  },
  {
   "cell_type": "code",
   "execution_count": 5,
   "id": "374108a9",
   "metadata": {},
   "outputs": [
    {
     "name": "stdout",
     "output_type": "stream",
     "text": [
      "ThisissomeexampletextIthaspunctuation\n"
     ]
    }
   ],
   "source": [
    "# remove whitespace\n",
    "editor.remove_whitespace()\n",
    "print(editor.text)"
   ]
  }
 ],
 "metadata": {
  "kernelspec": {
   "display_name": "Python 3 (ipykernel)",
   "language": "python",
   "name": "python3"
  },
  "language_info": {
   "codemirror_mode": {
    "name": "ipython",
    "version": 3
   },
   "file_extension": ".py",
   "mimetype": "text/x-python",
   "name": "python",
   "nbconvert_exporter": "python",
   "pygments_lexer": "ipython3",
   "version": "3.11.1"
  }
 },
 "nbformat": 4,
 "nbformat_minor": 5
}
